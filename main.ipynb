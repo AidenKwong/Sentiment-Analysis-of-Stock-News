{
 "cells": [
  {
   "cell_type": "code",
   "execution_count": null,
   "metadata": {},
   "outputs": [],
   "source": [
    "from os import lseek\n",
    "from urllib.request import urlopen, Request\n",
    "from bs4 import BeautifulSoup\n",
    "from nltk.sentiment.vader import SentimentIntensityAnalyzer\n",
    "import pandas as pd\n",
    "import matplotlib.pyplot as plt\n",
    "\n",
    "finviz_url = \"https://finviz.com/quote.ashx?t=\"\n",
    "\n",
    "tickers = [\"AMZN\", \"FB\", \"GOOG\", \"AAPL\", \"MSFT\"]\n",
    "\n",
    "news_tables = {}\n",
    "\n",
    "for ticker in tickers:\n",
    "    url = finviz_url + ticker\n",
    "    req = Request(url, headers={\"User-Agent\": \"Mozilla/5.0\"})\n",
    "    res = urlopen(req)\n",
    "    html = BeautifulSoup(res, \"html.parser\")\n",
    "    news_table = html.find(id=\"news-table\")\n",
    "    news_tables[ticker] = news_table\n",
    "\n",
    "parsed_data = []\n",
    "\n",
    "for ticker, news_table in news_tables.items():\n",
    "    for row in news_table.find_all(\"tr\"):\n",
    "        title = row.a.text\n",
    "        date_data = row.td.text.split(\" \")\n",
    "\n",
    "        if len(date_data) == 1:\n",
    "            time = date_data[0]\n",
    "        else:\n",
    "            date = date_data[0]\n",
    "            time = date_data[1]\n",
    "\n",
    "        parsed_data.append([ticker, date, time, title])\n",
    "\n",
    "df = pd.DataFrame(parsed_data, columns=[\"ticker\", \"date\", \"time\", \"title\"])\n",
    "vader = SentimentIntensityAnalyzer()\n",
    "f = lambda title: vader.polarity_scores(title)[\"compound\"]\n",
    "df[\"compound\"] = df[\"title\"].apply(f)\n",
    "df[\"date\"] == pd.to_datetime(df.date).dt.date\n",
    "\n",
    "plt.figure(figsize=(10, 8))\n",
    "\n",
    "mean_df = df.groupby([\"ticker\", \"date\"]).mean()\n",
    "mean_df = mean_df.unstack()\n",
    "mean_df = mean_df.xs(\"compound\", axis=\"columns\").transpose()\n",
    "mean_df.plot(kind=\"bar\")\n",
    "plt.show()\n"
   ]
  }
 ],
 "metadata": {
  "interpreter": {
   "hash": "4e59ce80e544448233190f93d14e6fd38f8a0b85b3d30cb5b0daf7e6e9d6ddea"
  },
  "kernelspec": {
   "display_name": "Python 3.10.4 ('.env': venv)",
   "language": "python",
   "name": "python3"
  },
  "language_info": {
   "name": "python",
   "version": "3.10.4"
  },
  "orig_nbformat": 4
 },
 "nbformat": 4,
 "nbformat_minor": 2
}
