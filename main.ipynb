{
 "cells": [
  {
   "cell_type": "code",
   "execution_count": 1,
   "metadata": {},
   "outputs": [],
   "source": [
    "from urllib.request import urlopen, Request\n",
    "from bs4 import BeautifulSoup\n",
    "from nltk.sentiment.vader import SentimentIntensityAnalyzer\n",
    "import pandas as pd\n",
    "import matplotlib.pyplot as plt\n",
    "\n",
    "finviz_url = \"https://finviz.com/quote.ashx?t=\"\n",
    "\n",
    "tickers = [\"AAPL\", \"BAC\", \"NVDA\"]  # tickers of high-volume stocks\n",
    "\n",
    "news_tables = {}\n",
    "\n",
    "for ticker in tickers:\n",
    "    url = finviz_url + ticker\n",
    "    req = Request(url, headers={\"User-Agent\": \"Mozilla/5.0\"})\n",
    "    res = urlopen(req)\n",
    "    html = BeautifulSoup(res, \"html.parser\")\n",
    "    news_table = html.find(id=\"news-table\")\n",
    "    news_tables[ticker] = news_table\n"
   ]
  },
  {
   "cell_type": "code",
   "execution_count": 2,
   "metadata": {},
   "outputs": [
    {
     "name": "stdout",
     "output_type": "stream",
     "text": [
      "Getting news of AAPL: 100\n",
      "Getting news of BAC: 100\n",
      "Getting news of NVDA: 100\n"
     ]
    }
   ],
   "source": [
    "parsed_data = []\n",
    "\n",
    "for ticker, news_table in news_tables.items():\n",
    "    allrows = news_table.find_all(\"tr\")\n",
    "    print(\"Getting news of \" + ticker + \": \" + str(len(allrows)))\n",
    "    for row in allrows:\n",
    "        title = row.a.text\n",
    "        date_data = row.td.text.split(\" \")\n",
    "\n",
    "        if len(date_data) == 1:\n",
    "            time = date_data[0]\n",
    "        else:\n",
    "            date = date_data[0]\n",
    "            time = date_data[1]\n",
    "        text = \"\" \n",
    "        try:\n",
    "            url = row.a.get(\"href\")\n",
    "            if not url.startswith((\"https://www.investors.com\",\"https://www.thestreet.com\",\"https://realmoney.thestreet.com\")):\n",
    "                # the above urls are not banned from scraping\n",
    "                req = Request(url, headers={\"User-Agent\": \"Mozilla/5.0\"})\n",
    "                res = urlopen(req)\n",
    "                html = BeautifulSoup(res, \"html.parser\")\n",
    "                text = html.get_text()\n",
    "        except Exception as e:\n",
    "            print(\"An \" + str(e) + \" occurred on \" + url)\n",
    "        \n",
    "\n",
    "        parsed_data.append([ticker, date, time, title, text])\n",
    "\n"
   ]
  },
  {
   "cell_type": "code",
   "execution_count": 3,
   "metadata": {},
   "outputs": [
    {
     "data": {
      "text/html": [
       "<div>\n",
       "<style scoped>\n",
       "    .dataframe tbody tr th:only-of-type {\n",
       "        vertical-align: middle;\n",
       "    }\n",
       "\n",
       "    .dataframe tbody tr th {\n",
       "        vertical-align: top;\n",
       "    }\n",
       "\n",
       "    .dataframe thead th {\n",
       "        text-align: right;\n",
       "    }\n",
       "</style>\n",
       "<table border=\"1\" class=\"dataframe\">\n",
       "  <thead>\n",
       "    <tr style=\"text-align: right;\">\n",
       "      <th></th>\n",
       "      <th>ticker</th>\n",
       "      <th>date</th>\n",
       "      <th>time</th>\n",
       "      <th>title</th>\n",
       "      <th>text</th>\n",
       "    </tr>\n",
       "  </thead>\n",
       "  <tbody>\n",
       "    <tr>\n",
       "      <th>0</th>\n",
       "      <td>AAPL</td>\n",
       "      <td>May-03-22</td>\n",
       "      <td>06:07PM</td>\n",
       "      <td>Generals Marching Without Soldiers</td>\n",
       "      <td>Generals Marching Without Soldiers         HOM...</td>\n",
       "    </tr>\n",
       "    <tr>\n",
       "      <th>1</th>\n",
       "      <td>AAPL</td>\n",
       "      <td>May-03-22</td>\n",
       "      <td>05:10PM</td>\n",
       "      <td>From Amazon to Yelp: The companies taking a st...</td>\n",
       "      <td>From Amazon to Yelp: The companies taking a st...</td>\n",
       "    </tr>\n",
       "    <tr>\n",
       "      <th>2</th>\n",
       "      <td>AAPL</td>\n",
       "      <td>May-03-22</td>\n",
       "      <td>04:56PM</td>\n",
       "      <td>Dizzying Pre-Fed Day Ends With Gains for Stock...</td>\n",
       "      <td>Dizzying Pre-Fed Day Ends With Gains for Stock...</td>\n",
       "    </tr>\n",
       "    <tr>\n",
       "      <th>3</th>\n",
       "      <td>AAPL</td>\n",
       "      <td>May-03-22</td>\n",
       "      <td>04:56PM</td>\n",
       "      <td>What a Peloton Acquisition Would Mean for Appl...</td>\n",
       "      <td>\\n\\n\\n\\n\\n\\n      What a Peloton Acquisition W...</td>\n",
       "    </tr>\n",
       "    <tr>\n",
       "      <th>4</th>\n",
       "      <td>AAPL</td>\n",
       "      <td>May-03-22</td>\n",
       "      <td>04:16PM</td>\n",
       "      <td>Apples App Store Offers Reasons for Hope, Anal...</td>\n",
       "      <td>\\n\\n\\n\\n\\n\\n      There Are Good Signs for App...</td>\n",
       "    </tr>\n",
       "  </tbody>\n",
       "</table>\n",
       "</div>"
      ],
      "text/plain": [
       "  ticker       date       time  \\\n",
       "0   AAPL  May-03-22  06:07PM     \n",
       "1   AAPL  May-03-22  05:10PM     \n",
       "2   AAPL  May-03-22  04:56PM     \n",
       "3   AAPL  May-03-22  04:56PM     \n",
       "4   AAPL  May-03-22  04:16PM     \n",
       "\n",
       "                                               title  \\\n",
       "0                 Generals Marching Without Soldiers   \n",
       "1  From Amazon to Yelp: The companies taking a st...   \n",
       "2  Dizzying Pre-Fed Day Ends With Gains for Stock...   \n",
       "3  What a Peloton Acquisition Would Mean for Appl...   \n",
       "4  Apples App Store Offers Reasons for Hope, Anal...   \n",
       "\n",
       "                                                text  \n",
       "0  Generals Marching Without Soldiers         HOM...  \n",
       "1  From Amazon to Yelp: The companies taking a st...  \n",
       "2  Dizzying Pre-Fed Day Ends With Gains for Stock...  \n",
       "3  \\n\\n\\n\\n\\n\\n      What a Peloton Acquisition W...  \n",
       "4  \\n\\n\\n\\n\\n\\n      There Are Good Signs for App...  "
      ]
     },
     "execution_count": 3,
     "metadata": {},
     "output_type": "execute_result"
    }
   ],
   "source": [
    "df = pd.DataFrame(parsed_data, columns=[\"ticker\", \"date\", \"time\", \"title\", \"text\"])\n",
    "df.head()"
   ]
  },
  {
   "cell_type": "code",
   "execution_count": 13,
   "metadata": {},
   "outputs": [
    {
     "data": {
      "text/plain": [
       "<Figure size 1152x648 with 0 Axes>"
      ]
     },
     "metadata": {},
     "output_type": "display_data"
    },
    {
     "data": {
      "image/png": "[encoded data removed]",
      "text/plain": [
       "<Figure size 1152x504 with 1 Axes>"
      ]
     },
     "metadata": {
      "needs_background": "light"
     },
     "output_type": "display_data"
    }
   ],
   "source": [
    "vader = SentimentIntensityAnalyzer()\n",
    "\n",
    "# compound is not suitable for this case\n",
    "def analyze(text):\n",
    "    pos = vader.polarity_scores(text)[\"pos\"]\n",
    "    neg = vader.polarity_scores(text)[\"neg\"]\n",
    "    return pos-neg\n",
    "df[\"score\"] = df[\"text\"].apply(analyze)\n",
    "df[\"date\"] == pd.to_datetime(df.date).dt.date\n",
    "\n",
    "\n",
    "plt.figure(figsize=(16, 9))\n",
    "plt.rcParams['figure.figsize'] = [16, 7]\n",
    "\n",
    "mean_df = df.groupby([\"ticker\", \"date\"]).mean()\n",
    "mean_df = mean_df.unstack()\n",
    "mean_df = mean_df.xs(\"score\", axis=\"columns\").transpose()\n",
    "mean_df.plot(kind=\"bar\")\n",
    "plt.show()"
   ]
  }
 ],
 "metadata": {
  "interpreter": {
   "hash": "4e59ce80e544448233190f93d14e6fd38f8a0b85b3d30cb5b0daf7e6e9d6ddea"
  },
  "kernelspec": {
   "display_name": "Python 3.10.4 ('.env': venv)",
   "language": "python",
   "name": "python3"
  },
  "language_info": {
   "codemirror_mode": {
    "name": "ipython",
    "version": 3
   },
   "file_extension": ".py",
   "mimetype": "text/x-python",
   "name": "python",
   "nbconvert_exporter": "python",
   "pygments_lexer": "ipython3",
   "version": "3.10.4"
  },
  "orig_nbformat": 4
 },
 "nbformat": 4,
 "nbformat_minor": 2
}
