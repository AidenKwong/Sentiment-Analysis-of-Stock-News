{
 "cells": [
  {
   "cell_type": "code",
   "execution_count": 8,
   "metadata": {},
   "outputs": [
    {
     "name": "stderr",
     "output_type": "stream",
     "text": [
      "[nltk_data] Downloading package punkt to\n",
      "[nltk_data]     C:\\Users\\aiden\\AppData\\Roaming\\nltk_data...\n",
      "[nltk_data]   Package punkt is already up-to-date!\n"
     ]
    }
   ],
   "source": [
    "from urllib.request import urlopen, Request\n",
    "from bs4 import BeautifulSoup\n",
    "from nltk.sentiment.vader import SentimentIntensityAnalyzer\n",
    "from nltk.tokenize import RegexpTokenizer, sent_tokenize\n",
    "import nltk\n",
    "nltk.download(\"punkt\")\n",
    "import pandas as pd\n",
    "import matplotlib.pyplot as plt\n"
   ]
  },
  {
   "cell_type": "code",
   "execution_count": 2,
   "metadata": {},
   "outputs": [],
   "source": [
    "finviz_url = \"https://finviz.com/quote.ashx?t=\"\n",
    "\n",
    "tickers = [\"AAPL\", \"MSFT\",\"GOOG\", \"AMZN\", \"TSLA\"]\n",
    "\n",
    "news_tables = {}\n",
    "\n",
    "for ticker in tickers:\n",
    "    url = finviz_url + ticker\n",
    "    req = Request(url, headers={\"User-Agent\": \"Mozilla/5.0\"})\n",
    "    res = urlopen(req)\n",
    "    html = BeautifulSoup(res, \"html.parser\")\n",
    "    news_table = html.find(id=\"news-table\")\n",
    "    news_tables[ticker] = news_table"
   ]
  },
  {
   "cell_type": "code",
   "execution_count": 3,
   "metadata": {},
   "outputs": [
    {
     "name": "stdout",
     "output_type": "stream",
     "text": [
      "Getting news of AAPL ...\n",
      "Getting news of MSFT ...\n",
      "Getting news of GOOG ...\n",
      "Getting news of AMZN ...\n",
      "An <urlopen error [WinError 10060] A connection attempt failed because the connected party did not properly respond after a period of time, or established connection failed because connected host has failed to respond> occurred on https://www.fool.com/investing/2022/05/11/stock-market-sell-off-3-top-growth-stocks-to-buy-a/?source=eptyholnk0000202&utm_source=yahoo-host&utm_medium=feed&utm_campaign=article\n",
      "Getting news of TSLA ...\n"
     ]
    }
   ],
   "source": [
    "parsed_data = []\n",
    "total_raw_data = \"\"\n",
    "\n",
    "for ticker, news_table in news_tables.items():\n",
    "    allrows = news_table.find_all(\"tr\")\n",
    "    print(\"Getting news of \" + ticker + \" ...\")\n",
    "    for row in allrows:\n",
    "        title = row.a.text\n",
    "        date_data = row.td.text.split(\" \")\n",
    "\n",
    "        if len(date_data) == 1:\n",
    "            time = date_data[0]\n",
    "        else:\n",
    "            date = date_data[0]\n",
    "            time = date_data[1]\n",
    "        text = \"\"\n",
    "        try:\n",
    "            url = row.a.get(\"href\")\n",
    "            if not url.startswith(\n",
    "                (\n",
    "                    \"https://www.investors.com\",\n",
    "                    \"https://www.thestreet.com\",\n",
    "                    \"https://realmoney.thestreet.com\",\n",
    "                )\n",
    "            ):\n",
    "                # the above urls are not banned from scraping\n",
    "                req = Request(url, headers={\"User-Agent\": \"Mozilla/5.0\"})\n",
    "                res = urlopen(req)\n",
    "                html = BeautifulSoup(res, \"html.parser\")\n",
    "                text = html.get_text()\n",
    "                total_raw_data += text\n",
    "\n",
    "        except Exception as e:\n",
    "            print(\"An \" + str(e) + \" occurred on \" + url)\n",
    "\n",
    "        parsed_data.append([ticker, date, time, title, text])\n"
   ]
  },
  {
   "cell_type": "code",
   "execution_count": 4,
   "metadata": {},
   "outputs": [
    {
     "data": {
      "text/html": [
       "<div>\n",
       "<style scoped>\n",
       "    .dataframe tbody tr th:only-of-type {\n",
       "        vertical-align: middle;\n",
       "    }\n",
       "\n",
       "    .dataframe tbody tr th {\n",
       "        vertical-align: top;\n",
       "    }\n",
       "\n",
       "    .dataframe thead th {\n",
       "        text-align: right;\n",
       "    }\n",
       "</style>\n",
       "<table border=\"1\" class=\"dataframe\">\n",
       "  <thead>\n",
       "    <tr style=\"text-align: right;\">\n",
       "      <th></th>\n",
       "      <th>ticker</th>\n",
       "      <th>date</th>\n",
       "      <th>time</th>\n",
       "      <th>title</th>\n",
       "      <th>text</th>\n",
       "    </tr>\n",
       "  </thead>\n",
       "  <tbody>\n",
       "    <tr>\n",
       "      <th>count</th>\n",
       "      <td>500</td>\n",
       "      <td>500</td>\n",
       "      <td>500</td>\n",
       "      <td>500</td>\n",
       "      <td>500</td>\n",
       "    </tr>\n",
       "    <tr>\n",
       "      <th>unique</th>\n",
       "      <td>5</td>\n",
       "      <td>8</td>\n",
       "      <td>306</td>\n",
       "      <td>380</td>\n",
       "      <td>430</td>\n",
       "    </tr>\n",
       "    <tr>\n",
       "      <th>top</th>\n",
       "      <td>AAPL</td>\n",
       "      <td>May-10-22</td>\n",
       "      <td>04:10PM</td>\n",
       "      <td>Market check: Energy outperforms, Big Tech sto...</td>\n",
       "      <td></td>\n",
       "    </tr>\n",
       "    <tr>\n",
       "      <th>freq</th>\n",
       "      <td>100</td>\n",
       "      <td>142</td>\n",
       "      <td>10</td>\n",
       "      <td>5</td>\n",
       "      <td>51</td>\n",
       "    </tr>\n",
       "  </tbody>\n",
       "</table>\n",
       "</div>"
      ],
      "text/plain": [
       "       ticker       date       time  \\\n",
       "count     500        500        500   \n",
       "unique      5          8        306   \n",
       "top      AAPL  May-10-22  04:10PM     \n",
       "freq      100        142         10   \n",
       "\n",
       "                                                    title text  \n",
       "count                                                 500  500  \n",
       "unique                                                380  430  \n",
       "top     Market check: Energy outperforms, Big Tech sto...       \n",
       "freq                                                    5   51  "
      ]
     },
     "execution_count": 4,
     "metadata": {},
     "output_type": "execute_result"
    }
   ],
   "source": [
    "df = pd.DataFrame(parsed_data, columns=[\"ticker\", \"date\", \"time\", \"title\", \"text\"])\n",
    "df.describe()"
   ]
  },
  {
   "cell_type": "code",
   "execution_count": 5,
   "metadata": {},
   "outputs": [
    {
     "name": "stdout",
     "output_type": "stream",
     "text": [
      "Number of sentences: 24929\n"
     ]
    }
   ],
   "source": [
    "sentences = sent_tokenize(total_raw_data)\n",
    "print(\"Number of sentences: \" + str(len(sentences)))"
   ]
  },
  {
   "cell_type": "code",
   "execution_count": 6,
   "metadata": {},
   "outputs": [
    {
     "name": "stdout",
     "output_type": "stream",
     "text": [
      "Number of words in sentences: 1071470\n"
     ]
    }
   ],
   "source": [
    "words_in_sentences = [\n",
    "    RegexpTokenizer(r\"\\w+\").tokenize(sentence) for sentence in sentences\n",
    "]\n",
    "\n",
    "print(\n",
    "    \"Number of words in sentences: \"\n",
    "    + str(sum([len(sentence) for sentence in words_in_sentences]))\n",
    ")\n"
   ]
  },
  {
   "cell_type": "code",
   "execution_count": 7,
   "metadata": {},
   "outputs": [
    {
     "data": {
      "text/plain": [
       "<Figure size 1152x648 with 0 Axes>"
      ]
     },
     "metadata": {},
     "output_type": "display_data"
    },
    {
     "data": {
      "image/png": "[encoded data removed]",
      "text/plain": [
       "<Figure size 1152x504 with 1 Axes>"
      ]
     },
     "metadata": {
      "needs_background": "light"
     },
     "output_type": "display_data"
    }
   ],
   "source": [
    "vader = SentimentIntensityAnalyzer()\n",
    "\n",
    "# compound is not suitable for this case\n",
    "def analyze(text):\n",
    "    pos = vader.polarity_scores(text)[\"pos\"]\n",
    "    neg = vader.polarity_scores(text)[\"neg\"]\n",
    "    return pos - neg\n",
    "\n",
    "\n",
    "df[\"score\"] = df[\"text\"].apply(analyze)\n",
    "df[\"date\"] == pd.to_datetime(df.date).dt.date\n",
    "\n",
    "\n",
    "plt.figure(figsize=(16, 9))\n",
    "plt.rcParams[\"figure.figsize\"] = [16, 7]\n",
    "\n",
    "mean_df = df.groupby([\"ticker\", \"date\"]).mean()\n",
    "mean_df = mean_df.unstack()\n",
    "mean_df = mean_df.xs(\"score\", axis=\"columns\").transpose()\n",
    "mean_df.plot(kind=\"bar\")\n",
    "plt.show()\n"
   ]
  },
  {
   "cell_type": "code",
   "execution_count": null,
   "metadata": {},
   "outputs": [],
   "source": []
  }
 ],
 "metadata": {
  "interpreter": {
   "hash": "e067e56ad7f682a7699ec35aae660e33433ea5627d01564e30489c8fdbbf6757"
  },
  "kernelspec": {
   "display_name": "Python 3.10.4 ('.env': venv)",
   "language": "python",
   "name": "python3"
  },
  "language_info": {
   "codemirror_mode": {
    "name": "ipython",
    "version": 3
   },
   "file_extension": ".py",
   "mimetype": "text/x-python",
   "name": "python",
   "nbconvert_exporter": "python",
   "pygments_lexer": "ipython3",
   "version": "3.10.4"
  },
  "orig_nbformat": 4
 },
 "nbformat": 4,
 "nbformat_minor": 2
}
